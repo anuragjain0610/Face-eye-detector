{
 "cells": [
  {
   "cell_type": "code",
   "execution_count": 11,
   "metadata": {},
   "outputs": [],
   "source": [
    "def CaptureImage():\n",
    "    imageName = 'DontCare.jpg' #Just a random string\n",
    "    cap = cv2.VideoCapture(0)\n",
    "    while(True):\n",
    "        # Capture frame-by-frame\n",
    "        ret, frame = cap.read()\n",
    "\n",
    "       #gray = cv2.cvtColor(frame, cv2.COLOR_BGR2GRAY) #For capture image in monochrome\n",
    "        rgbImage = frame #For capture the image in RGB color space\n",
    "\n",
    "       # Display the resulting frame\n",
    "        cv2.imshow('Webcam',rgbImage)\n",
    "        #Wait to press 'q' key for capturing\n",
    "        if cv2.waitKey(1) & 0xFF == ord('q'):\n",
    "            #Set the image name to the date it was captured\n",
    "            \n",
    "            imageName = str(time.strftime(\"%Y_%m_%d_%H_%M\")) + '.jpg'\n",
    "               #Save the image         \n",
    "            cv2.imwrite(imageName, rgbImage)\n",
    "            break\n",
    "    # When everything done, release the capture\n",
    "    cap.release()\n",
    "    cv2.destroyAllWindows()\n",
    "    #Returns the captured image's name\n",
    "    return imageName "
   ]
  },
  {
   "cell_type": "code",
   "execution_count": null,
   "metadata": {},
   "outputs": [],
   "source": []
  },
  {
   "cell_type": "code",
   "execution_count": null,
   "metadata": {},
   "outputs": [],
   "source": []
  },
  {
   "cell_type": "code",
   "execution_count": null,
   "metadata": {},
   "outputs": [],
   "source": []
  }
 ],
 "metadata": {
  "kernelspec": {
   "display_name": "Python 3",
   "language": "python",
   "name": "python3"
  },
  "language_info": {
   "codemirror_mode": {
    "name": "ipython",
    "version": 3
   },
   "file_extension": ".py",
   "mimetype": "text/x-python",
   "name": "python",
   "nbconvert_exporter": "python",
   "pygments_lexer": "ipython3",
   "version": "3.7.1"
  }
 },
 "nbformat": 4,
 "nbformat_minor": 2
}
